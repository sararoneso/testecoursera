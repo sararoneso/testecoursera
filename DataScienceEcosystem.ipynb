{
  "metadata": {
    "kernelspec": {
      "name": "python",
      "display_name": "Python (Pyodide)",
      "language": "python"
    },
    "language_info": {
      "codemirror_mode": {
        "name": "python",
        "version": 3
      },
      "file_extension": ".py",
      "mimetype": "text/x-python",
      "name": "python",
      "nbconvert_exporter": "python",
      "pygments_lexer": "ipython3",
      "version": "3.8"
    }
  },
  "nbformat_minor": 4,
  "nbformat": 4,
  "cells": [
    {
      "cell_type": "markdown",
      "source": "# Data Science Tools and Ecosystem",
      "metadata": {}
    },
    {
      "cell_type": "markdown",
      "source": "In this notebook, Data Science Tools and Ecosystem are summarized.\n\n",
      "metadata": {}
    },
    {
      "cell_type": "markdown",
      "source": " **Objectives:** \n \n - Create a Jupyter Notebook\n\n- Insert code and markdown cells\n\n-  Share your notebook through GitHub",
      "metadata": {}
    },
    {
      "cell_type": "markdown",
      "source": "Some of the popular languages that Data Scientists use are:\n\n- R\n- Phyton\n- SQL\n  ",
      "metadata": {}
    },
    {
      "cell_type": "markdown",
      "source": "Some of the commonly used libraries used by Data Scientists include:\n\n1. Numpy\n2. Panda\n3. SciPy\n\n\n",
      "metadata": {}
    },
    {
      "cell_type": "markdown",
      "source": "Three development environment open source tools used in data science\n\n | open source tools |\n |---------------------|\n | Jupyter Notebook |\n | Visual Studio Code |\n | JupyterLite |\n",
      "metadata": {}
    },
    {
      "cell_type": "markdown",
      "source": "### Below are a few examples of evaluating arithmetic expressions in Python.\n\n### Addition\nadd = 5 + 3\n\n### Subtraction\nsub = 10 - 4\n\n### Multiplication\nmul = 6 * 7\n\n",
      "metadata": {}
    },
    {
      "cell_type": "code",
      "source": "expression = (3*4)+5\n\n# This a simple arithmetic expression to mutiply then add integers\n\nprint(expression)",
      "metadata": {
        "trusted": true
      },
      "outputs": [
        {
          "name": "stdout",
          "text": "17\n",
          "output_type": "stream"
        }
      ],
      "execution_count": 3
    },
    {
      "cell_type": "code",
      "source": "converts = 200/60 \n\n#  This will convert 200 minutes to hours by diving by 60\n\nprint(converts)",
      "metadata": {
        "trusted": true
      },
      "outputs": [
        {
          "name": "stdout",
          "text": "3.3333333333333335\n",
          "output_type": "stream"
        }
      ],
      "execution_count": 4
    },
    {
      "cell_type": "markdown",
      "source": "## Author\n\nSara Souza",
      "metadata": {}
    },
    {
      "cell_type": "code",
      "source": "",
      "metadata": {
        "trusted": true
      },
      "outputs": [],
      "execution_count": null
    }
  ]
}